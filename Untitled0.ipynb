{
  "nbformat": 4,
  "nbformat_minor": 0,
  "metadata": {
    "colab": {
      "provenance": [],
      "authorship_tag": "ABX9TyOv8vHyz36UYaHTq8206MwT",
      "include_colab_link": true
    },
    "kernelspec": {
      "name": "python3",
      "display_name": "Python 3"
    },
    "language_info": {
      "name": "python"
    }
  },
  "cells": [
    {
      "cell_type": "markdown",
      "metadata": {
        "id": "view-in-github",
        "colab_type": "text"
      },
      "source": [
        "<a href=\"https://colab.research.google.com/github/fellipefferreira/python_aula3/blob/main/Untitled0.ipynb\" target=\"_parent\"><img src=\"https://colab.research.google.com/assets/colab-badge.svg\" alt=\"Open In Colab\"/></a>"
      ]
    },
    {
      "cell_type": "markdown",
      "source": [
        "# O pandas oferece estruturas de dados de alto nível e funções para tornar o trabalho com dados estruturados rápido.\n",
        "\n",
        "# Dataframes são objetos primários em pandas, uma estrutura de dados tabular orientada com linhas e colunas. E o series, um objeto de matriz rotulado unidimensional.\n",
        "\n",
        "# Pandas e Numpy são semelhantes e servem para manipular dados, porém cada um tem suas peculiaridades.\n",
        "\n",
        "# Pandas : Podem conter tipos de dados diferentes , mais memórias, duas dimensões, mais devagar. Trabalhas com operacoes tabulares, semelhante ao sql. Usa indexação baseadas em rótulos, o que torna masi fácil de manipular dados usando nomes de colunas e indices específicos.\n",
        "\n",
        "# Numpy : Dados homogêneos, menos memória, mais rápidos , trabalha com duas ou mais dimensões. E é uma compiutação numerica, matrizes e vetores. Usa indexação baseadas em números inteiros para acessar elementos.\n",
        "\n"
      ],
      "metadata": {
        "id": "WtkZrkEyjWkA"
      }
    },
    {
      "cell_type": "code",
      "source": [
        "pip install pandas"
      ],
      "metadata": {
        "colab": {
          "base_uri": "https://localhost:8080/"
        },
        "id": "put3vpUPndTA",
        "outputId": "4afc3d45-61d4-4c01-f4dc-c255eab55849"
      },
      "execution_count": 2,
      "outputs": [
        {
          "output_type": "stream",
          "name": "stdout",
          "text": [
            "Requirement already satisfied: pandas in /usr/local/lib/python3.10/dist-packages (1.5.3)\n",
            "Requirement already satisfied: python-dateutil>=2.8.1 in /usr/local/lib/python3.10/dist-packages (from pandas) (2.8.2)\n",
            "Requirement already satisfied: pytz>=2020.1 in /usr/local/lib/python3.10/dist-packages (from pandas) (2023.4)\n",
            "Requirement already satisfied: numpy>=1.21.0 in /usr/local/lib/python3.10/dist-packages (from pandas) (1.25.2)\n",
            "Requirement already satisfied: six>=1.5 in /usr/local/lib/python3.10/dist-packages (from python-dateutil>=2.8.1->pandas) (1.16.0)\n"
          ]
        }
      ]
    },
    {
      "cell_type": "code",
      "source": [
        "import pandas as pd"
      ],
      "metadata": {
        "id": "9uXGGKzknhpy"
      },
      "execution_count": 3,
      "outputs": []
    },
    {
      "cell_type": "code",
      "source": [
        "s = pd.Series([10,20,30,40,50])\n",
        "print(s)"
      ],
      "metadata": {
        "id": "akuqQWUpnkey"
      },
      "execution_count": null,
      "outputs": []
    },
    {
      "cell_type": "code",
      "source": [
        "# criar duas series pandas e calcular soma, sub, multi, divisão\n",
        "\n",
        "s1 = pd.Series([10,20,30,40,50])\n",
        "s2 = pd.Series([20,30,50,60])\n",
        "\n",
        "# soma\n",
        "soma = s1 + s2\n",
        "print('Soma:')\n",
        "print(soma)\n",
        "\n",
        "# sub\n",
        "sub = s1 - s2\n",
        "print(\"n\\Subtração:\")\n",
        "print(sub)\n",
        "\n",
        "# multiplicação\n",
        "multi = s1 * s2\n",
        "print(\"n\\Multi:\")\n",
        "print(multi)\n",
        "\n",
        "# Divisão\n",
        "div = s1 / s2\n",
        "print(\"n\\Divisão:\")\n",
        "print(div)"
      ],
      "metadata": {
        "id": "fLr2jyaDnu7U"
      },
      "execution_count": null,
      "outputs": []
    },
    {
      "cell_type": "code",
      "source": [
        "# Criando duas séries pandas com nomes de colunas\n",
        "import pandas as pd\n",
        "\n",
        "s1 = pd.Series([10,20,30,40,50], name='serie1')\n",
        "s2 = pd.Series([20,30,60,50,100], name='serie2')\n",
        "\n",
        "# criando dataframe a partir das series\n",
        "\n",
        "df = pd.DataFrame({'serie1':s1,'serie2':s2})\n",
        "df"
      ],
      "metadata": {
        "id": "HpbGlA_yqaul"
      },
      "execution_count": null,
      "outputs": []
    },
    {
      "cell_type": "code",
      "source": [
        "# Numpy trabalha com arrays multidimensionais  np.arrays , que são suficientes para operações numéricas vetorizadas.\n"
      ],
      "metadata": {
        "id": "F-WUfbdHt6l5"
      },
      "execution_count": null,
      "outputs": []
    },
    {
      "cell_type": "code",
      "source": [
        "import numpy as np"
      ],
      "metadata": {
        "id": "yHSjmuhtuv0a"
      },
      "execution_count": 16,
      "outputs": []
    },
    {
      "cell_type": "code",
      "source": [
        "arr = np.array([[1,2,3],[4,5,6]])\n",
        "result = arr * 2\n",
        "print(\"Array numpy original\")\n",
        "print(arr)\n",
        "print(\"Array após multiplicação por 2\")\n",
        "print(result)"
      ],
      "metadata": {
        "id": "-fiTy_abvNf5"
      },
      "execution_count": null,
      "outputs": []
    },
    {
      "cell_type": "code",
      "source": [
        "import pandas as pd\n",
        "\n",
        "dados = {\"A\":[1,2,3],\"B\":[4,5,6]}\n",
        "df = pd.DataFrame(dados)\n",
        "df[\"C\"] = df[\"A\"] + df[\"B\"]\n",
        "df"
      ],
      "metadata": {
        "id": "I7lgEMkdvvsK"
      },
      "execution_count": null,
      "outputs": []
    },
    {
      "cell_type": "code",
      "source": [
        "# Acessando index do numpy\n",
        "\n",
        "arr = np.array([[1,2,3],[4,5,6]])\n",
        "element = arr[1,2]\n",
        "print(\"O elemento acessado é:\", element)"
      ],
      "metadata": {
        "colab": {
          "base_uri": "https://localhost:8080/"
        },
        "id": "6ECIFZMlxkOq",
        "outputId": "6eb75f19-73fb-420d-d184-643a0788949e"
      },
      "execution_count": 22,
      "outputs": [
        {
          "output_type": "stream",
          "name": "stdout",
          "text": [
            "O elemento acessado é: 6\n"
          ]
        }
      ]
    },
    {
      "cell_type": "code",
      "source": [
        "# Acessando indice no pandas\n",
        "\n",
        "dados = {\"A\":[1,2,3],\"B\":[4,5,6]}\n",
        "df = pd.DataFrame(dados)\n",
        "value = df.loc[1,\"B\"]\n",
        "print(\"O valor acessado é :\", value)"
      ],
      "metadata": {
        "colab": {
          "base_uri": "https://localhost:8080/"
        },
        "id": "5AEmSzT5yOER",
        "outputId": "7591ae75-c99c-4ddb-f8e8-d7e74ba8758b"
      },
      "execution_count": 25,
      "outputs": [
        {
          "output_type": "stream",
          "name": "stdout",
          "text": [
            "O valor acessado é : 5\n"
          ]
        }
      ]
    },
    {
      "cell_type": "code",
      "source": [
        "# Álgebra linear com Num py\n",
        "arr = ([1,2,3,4,5])\n",
        "\n",
        "matriz = np.array([[1,2],[3,4]])\n",
        "vetor = np.array([5,6])\n",
        "print(matriz)\n",
        "print(vetor)\n"
      ],
      "metadata": {
        "id": "x_cKVCvQz99p"
      },
      "execution_count": null,
      "outputs": []
    },
    {
      "cell_type": "code",
      "source": [
        "# produto escalar\n",
        "produto_escalar = np.dot(matriz,vetor)\n",
        "print(produto_escalar)"
      ],
      "metadata": {
        "id": "CXGjTbH807Bn"
      },
      "execution_count": null,
      "outputs": []
    },
    {
      "cell_type": "code",
      "source": [
        "# estatística com numpy\n",
        "\n",
        "media = np.mean(arr)\n",
        "desvio_padrao = np.std(arr)\n",
        "print(\"Produto escalar\", produto_escalar)\n",
        "print(\"Média\", media)\n",
        "print(\"Desvio padra\", desvio_padrao)\n"
      ],
      "metadata": {
        "id": "lq5pAS4Y0okl"
      },
      "execution_count": null,
      "outputs": []
    },
    {
      "cell_type": "code",
      "source": [
        "# Manipulação de dados pandas\n",
        "\n",
        "import pandas as pd\n",
        "\n",
        "data = {\"A\":[1,2,3],\"B\":[4,5,6]}\n",
        "df = pd.DataFrame(data)\n",
        "df[\"C\"] = df[\"A\"] + df[\"B\"]\n",
        "\n",
        "media_coluna_A = df[\"A\"].mean()\n",
        "media_coluna_B = df[\"B\"].sum()\n",
        "\n",
        "print(df)\n",
        "print(media_coluna_A)\n",
        "print(soma_coluna_B)"
      ],
      "metadata": {
        "id": "mN78WCa62EqA"
      },
      "execution_count": null,
      "outputs": []
    },
    {
      "cell_type": "code",
      "source": [
        "#"
      ],
      "metadata": {
        "id": "JCGGgdoF25Fw"
      },
      "execution_count": null,
      "outputs": []
    }
  ]
}